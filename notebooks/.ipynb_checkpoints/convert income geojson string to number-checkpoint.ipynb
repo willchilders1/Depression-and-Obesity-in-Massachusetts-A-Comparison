{
 "cells": [
  {
   "cell_type": "code",
   "execution_count": 5,
   "id": "b0cb0d53",
   "metadata": {},
   "outputs": [],
   "source": [
    "import json\n",
    "import geojson\n",
    "\n",
    "# Load the GeoJSON file\n",
    "with open('MA_income_simplifed.json') as f:\n",
    "    data = json.load(f)\n",
    "\n",
    "# Loop through the features and change the attribute type\n",
    "for feature in data['features']:\n",
    "    feature['properties']['B24031_001E'] = float(feature['properties']['B24031_001E'])\n",
    "\n",
    "# Save the modified GeoJSON file\n",
    "with open('MA_income_simplified_3.0.geojson', 'w') as f:\n",
    "    geojson.dump(data, f)"
   ]
  },
  {
   "cell_type": "code",
   "execution_count": null,
   "id": "941f83d5",
   "metadata": {},
   "outputs": [],
   "source": []
  }
 ],
 "metadata": {
  "kernelspec": {
   "display_name": "Python 3",
   "language": "python",
   "name": "python3"
  },
  "language_info": {
   "codemirror_mode": {
    "name": "ipython",
    "version": 3
   },
   "file_extension": ".py",
   "mimetype": "text/x-python",
   "name": "python",
   "nbconvert_exporter": "python",
   "pygments_lexer": "ipython3",
   "version": "3.8.8"
  }
 },
 "nbformat": 4,
 "nbformat_minor": 5
}
